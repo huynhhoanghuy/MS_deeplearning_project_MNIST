{
  "nbformat": 4,
  "nbformat_minor": 0,
  "metadata": {
    "colab": {
      "name": "Recognition_MNIST_21C11011.ipynb",
      "provenance": [],
      "collapsed_sections": [],
      "authorship_tag": "ABX9TyPmp870k875g/a16b/zoB9Z",
      "include_colab_link": true
    },
    "kernelspec": {
      "name": "python3",
      "display_name": "Python 3"
    },
    "language_info": {
      "name": "python"
    }
  },
  "cells": [
    {
      "cell_type": "markdown",
      "metadata": {
        "id": "view-in-github",
        "colab_type": "text"
      },
      "source": [
        "<a href=\"https://colab.research.google.com/github/huynhhoanghuy/MS_deeplearning_project_MNIST/blob/main/Recognition_MNIST_21C11011.ipynb\" target=\"_parent\"><img src=\"https://colab.research.google.com/assets/colab-badge.svg\" alt=\"Open In Colab\"/></a>"
      ]
    },
    {
      "cell_type": "markdown",
      "source": [
        "# Thông tin học viên:\n",
        "MSHV: 21C11011\n",
        "\n",
        "Họ Tên: Huỳnh Hoàng Huy\n",
        "\n",
        "\n",
        "---\n",
        "\n"
      ],
      "metadata": {
        "id": "-CTMM4MxY-BP"
      }
    },
    {
      "cell_type": "markdown",
      "source": [
        "Để có thể có kết quả không đổi sau mỗi lần chạy lại (reproducible results), em thực hiện việc set random seed và train trên CPU."
      ],
      "metadata": {
        "id": "4HJbP_1StGih"
      }
    },
    {
      "cell_type": "code",
      "source": [
        "import tensorflow as tf\n",
        "from tensorflow.keras.layers import *\n",
        "from tensorflow.keras.models import Model\n",
        "from keras.initializers import constant\n",
        "from tensorflow.keras.utils import to_categorical\n",
        "\n"
      ],
      "metadata": {
        "id": "IBrrXQfcG85W"
      },
      "execution_count": 526,
      "outputs": []
    },
    {
      "cell_type": "code",
      "source": [
        "# Seed value\n",
        "seed_value= 11011\n",
        "\n",
        "# 1. Set `PYTHONHASHSEED` environment variable at a fixed value\n",
        "import os\n",
        "os.environ['PYTHONHASHSEED']=str(seed_value)\n",
        "\n",
        "# 2. Set `python` built-in pseudo-random generator at a fixed value\n",
        "import random\n",
        "random.seed(seed_value)\n",
        "\n",
        "# 3. Set `numpy` pseudo-random generator at a fixed value\n",
        "import numpy as np\n",
        "np.random.seed(seed_value)\n",
        "\n",
        "# 4. Set the `tensorflow` pseudo-random generator at a fixed value\n",
        "tf.random.set_seed(seed_value)\n",
        "\n",
        "# 5. Configure a new global `tensorflow` session\n",
        "import tensorflow.keras.backend as K\n",
        "session_conf = tf.compat.v1.ConfigProto(intra_op_parallelism_threads=1, inter_op_parallelism_threads=1)\n",
        "sess = tf.compat.v1.Session(graph=tf.compat.v1.get_default_graph(), config=session_conf)\n",
        "tf.compat.v1.keras.backend.set_session(sess)"
      ],
      "metadata": {
        "id": "HXxlfVt-i3ax"
      },
      "execution_count": 527,
      "outputs": []
    },
    {
      "cell_type": "markdown",
      "source": [
        "Load dataset"
      ],
      "metadata": {
        "id": "SdZGKRqiZO_I"
      }
    },
    {
      "cell_type": "code",
      "execution_count": 528,
      "metadata": {
        "id": "1nu8rSfuHpN2"
      },
      "outputs": [],
      "source": [
        "#Load MNIST dataset\n",
        "# MNIST dataset has a shape of (70000, 784) meaning there are 70,000 images with 784 dimensions (784 features).\n",
        "from sklearn.datasets import fetch_openml\n",
        "mnist = fetch_openml(\"mnist_784\")"
      ]
    },
    {
      "cell_type": "code",
      "source": [
        "mnist.data"
      ],
      "metadata": {
        "colab": {
          "base_uri": "https://localhost:8080/",
          "height": 466
        },
        "id": "kdSxwsAEK6z4",
        "outputId": "d1e6bfe1-c328-4990-e6ba-5595d1b753a9"
      },
      "execution_count": 529,
      "outputs": [
        {
          "output_type": "execute_result",
          "data": {
            "text/plain": [
              "       pixel1  pixel2  pixel3  pixel4  pixel5  pixel6  pixel7  pixel8  pixel9  \\\n",
              "0         0.0     0.0     0.0     0.0     0.0     0.0     0.0     0.0     0.0   \n",
              "1         0.0     0.0     0.0     0.0     0.0     0.0     0.0     0.0     0.0   \n",
              "2         0.0     0.0     0.0     0.0     0.0     0.0     0.0     0.0     0.0   \n",
              "3         0.0     0.0     0.0     0.0     0.0     0.0     0.0     0.0     0.0   \n",
              "4         0.0     0.0     0.0     0.0     0.0     0.0     0.0     0.0     0.0   \n",
              "...       ...     ...     ...     ...     ...     ...     ...     ...     ...   \n",
              "69995     0.0     0.0     0.0     0.0     0.0     0.0     0.0     0.0     0.0   \n",
              "69996     0.0     0.0     0.0     0.0     0.0     0.0     0.0     0.0     0.0   \n",
              "69997     0.0     0.0     0.0     0.0     0.0     0.0     0.0     0.0     0.0   \n",
              "69998     0.0     0.0     0.0     0.0     0.0     0.0     0.0     0.0     0.0   \n",
              "69999     0.0     0.0     0.0     0.0     0.0     0.0     0.0     0.0     0.0   \n",
              "\n",
              "       pixel10  ...  pixel775  pixel776  pixel777  pixel778  pixel779  \\\n",
              "0          0.0  ...       0.0       0.0       0.0       0.0       0.0   \n",
              "1          0.0  ...       0.0       0.0       0.0       0.0       0.0   \n",
              "2          0.0  ...       0.0       0.0       0.0       0.0       0.0   \n",
              "3          0.0  ...       0.0       0.0       0.0       0.0       0.0   \n",
              "4          0.0  ...       0.0       0.0       0.0       0.0       0.0   \n",
              "...        ...  ...       ...       ...       ...       ...       ...   \n",
              "69995      0.0  ...       0.0       0.0       0.0       0.0       0.0   \n",
              "69996      0.0  ...       0.0       0.0       0.0       0.0       0.0   \n",
              "69997      0.0  ...       0.0       0.0       0.0       0.0       0.0   \n",
              "69998      0.0  ...       0.0       0.0       0.0       0.0       0.0   \n",
              "69999      0.0  ...       0.0       0.0       0.0       0.0       0.0   \n",
              "\n",
              "       pixel780  pixel781  pixel782  pixel783  pixel784  \n",
              "0           0.0       0.0       0.0       0.0       0.0  \n",
              "1           0.0       0.0       0.0       0.0       0.0  \n",
              "2           0.0       0.0       0.0       0.0       0.0  \n",
              "3           0.0       0.0       0.0       0.0       0.0  \n",
              "4           0.0       0.0       0.0       0.0       0.0  \n",
              "...         ...       ...       ...       ...       ...  \n",
              "69995       0.0       0.0       0.0       0.0       0.0  \n",
              "69996       0.0       0.0       0.0       0.0       0.0  \n",
              "69997       0.0       0.0       0.0       0.0       0.0  \n",
              "69998       0.0       0.0       0.0       0.0       0.0  \n",
              "69999       0.0       0.0       0.0       0.0       0.0  \n",
              "\n",
              "[70000 rows x 784 columns]"
            ],
            "text/html": [
              "\n",
              "  <div id=\"df-3ea5805c-3ae7-4dc6-97d8-8b2f0c1fb5af\">\n",
              "    <div class=\"colab-df-container\">\n",
              "      <div>\n",
              "<style scoped>\n",
              "    .dataframe tbody tr th:only-of-type {\n",
              "        vertical-align: middle;\n",
              "    }\n",
              "\n",
              "    .dataframe tbody tr th {\n",
              "        vertical-align: top;\n",
              "    }\n",
              "\n",
              "    .dataframe thead th {\n",
              "        text-align: right;\n",
              "    }\n",
              "</style>\n",
              "<table border=\"1\" class=\"dataframe\">\n",
              "  <thead>\n",
              "    <tr style=\"text-align: right;\">\n",
              "      <th></th>\n",
              "      <th>pixel1</th>\n",
              "      <th>pixel2</th>\n",
              "      <th>pixel3</th>\n",
              "      <th>pixel4</th>\n",
              "      <th>pixel5</th>\n",
              "      <th>pixel6</th>\n",
              "      <th>pixel7</th>\n",
              "      <th>pixel8</th>\n",
              "      <th>pixel9</th>\n",
              "      <th>pixel10</th>\n",
              "      <th>...</th>\n",
              "      <th>pixel775</th>\n",
              "      <th>pixel776</th>\n",
              "      <th>pixel777</th>\n",
              "      <th>pixel778</th>\n",
              "      <th>pixel779</th>\n",
              "      <th>pixel780</th>\n",
              "      <th>pixel781</th>\n",
              "      <th>pixel782</th>\n",
              "      <th>pixel783</th>\n",
              "      <th>pixel784</th>\n",
              "    </tr>\n",
              "  </thead>\n",
              "  <tbody>\n",
              "    <tr>\n",
              "      <th>0</th>\n",
              "      <td>0.0</td>\n",
              "      <td>0.0</td>\n",
              "      <td>0.0</td>\n",
              "      <td>0.0</td>\n",
              "      <td>0.0</td>\n",
              "      <td>0.0</td>\n",
              "      <td>0.0</td>\n",
              "      <td>0.0</td>\n",
              "      <td>0.0</td>\n",
              "      <td>0.0</td>\n",
              "      <td>...</td>\n",
              "      <td>0.0</td>\n",
              "      <td>0.0</td>\n",
              "      <td>0.0</td>\n",
              "      <td>0.0</td>\n",
              "      <td>0.0</td>\n",
              "      <td>0.0</td>\n",
              "      <td>0.0</td>\n",
              "      <td>0.0</td>\n",
              "      <td>0.0</td>\n",
              "      <td>0.0</td>\n",
              "    </tr>\n",
              "    <tr>\n",
              "      <th>1</th>\n",
              "      <td>0.0</td>\n",
              "      <td>0.0</td>\n",
              "      <td>0.0</td>\n",
              "      <td>0.0</td>\n",
              "      <td>0.0</td>\n",
              "      <td>0.0</td>\n",
              "      <td>0.0</td>\n",
              "      <td>0.0</td>\n",
              "      <td>0.0</td>\n",
              "      <td>0.0</td>\n",
              "      <td>...</td>\n",
              "      <td>0.0</td>\n",
              "      <td>0.0</td>\n",
              "      <td>0.0</td>\n",
              "      <td>0.0</td>\n",
              "      <td>0.0</td>\n",
              "      <td>0.0</td>\n",
              "      <td>0.0</td>\n",
              "      <td>0.0</td>\n",
              "      <td>0.0</td>\n",
              "      <td>0.0</td>\n",
              "    </tr>\n",
              "    <tr>\n",
              "      <th>2</th>\n",
              "      <td>0.0</td>\n",
              "      <td>0.0</td>\n",
              "      <td>0.0</td>\n",
              "      <td>0.0</td>\n",
              "      <td>0.0</td>\n",
              "      <td>0.0</td>\n",
              "      <td>0.0</td>\n",
              "      <td>0.0</td>\n",
              "      <td>0.0</td>\n",
              "      <td>0.0</td>\n",
              "      <td>...</td>\n",
              "      <td>0.0</td>\n",
              "      <td>0.0</td>\n",
              "      <td>0.0</td>\n",
              "      <td>0.0</td>\n",
              "      <td>0.0</td>\n",
              "      <td>0.0</td>\n",
              "      <td>0.0</td>\n",
              "      <td>0.0</td>\n",
              "      <td>0.0</td>\n",
              "      <td>0.0</td>\n",
              "    </tr>\n",
              "    <tr>\n",
              "      <th>3</th>\n",
              "      <td>0.0</td>\n",
              "      <td>0.0</td>\n",
              "      <td>0.0</td>\n",
              "      <td>0.0</td>\n",
              "      <td>0.0</td>\n",
              "      <td>0.0</td>\n",
              "      <td>0.0</td>\n",
              "      <td>0.0</td>\n",
              "      <td>0.0</td>\n",
              "      <td>0.0</td>\n",
              "      <td>...</td>\n",
              "      <td>0.0</td>\n",
              "      <td>0.0</td>\n",
              "      <td>0.0</td>\n",
              "      <td>0.0</td>\n",
              "      <td>0.0</td>\n",
              "      <td>0.0</td>\n",
              "      <td>0.0</td>\n",
              "      <td>0.0</td>\n",
              "      <td>0.0</td>\n",
              "      <td>0.0</td>\n",
              "    </tr>\n",
              "    <tr>\n",
              "      <th>4</th>\n",
              "      <td>0.0</td>\n",
              "      <td>0.0</td>\n",
              "      <td>0.0</td>\n",
              "      <td>0.0</td>\n",
              "      <td>0.0</td>\n",
              "      <td>0.0</td>\n",
              "      <td>0.0</td>\n",
              "      <td>0.0</td>\n",
              "      <td>0.0</td>\n",
              "      <td>0.0</td>\n",
              "      <td>...</td>\n",
              "      <td>0.0</td>\n",
              "      <td>0.0</td>\n",
              "      <td>0.0</td>\n",
              "      <td>0.0</td>\n",
              "      <td>0.0</td>\n",
              "      <td>0.0</td>\n",
              "      <td>0.0</td>\n",
              "      <td>0.0</td>\n",
              "      <td>0.0</td>\n",
              "      <td>0.0</td>\n",
              "    </tr>\n",
              "    <tr>\n",
              "      <th>...</th>\n",
              "      <td>...</td>\n",
              "      <td>...</td>\n",
              "      <td>...</td>\n",
              "      <td>...</td>\n",
              "      <td>...</td>\n",
              "      <td>...</td>\n",
              "      <td>...</td>\n",
              "      <td>...</td>\n",
              "      <td>...</td>\n",
              "      <td>...</td>\n",
              "      <td>...</td>\n",
              "      <td>...</td>\n",
              "      <td>...</td>\n",
              "      <td>...</td>\n",
              "      <td>...</td>\n",
              "      <td>...</td>\n",
              "      <td>...</td>\n",
              "      <td>...</td>\n",
              "      <td>...</td>\n",
              "      <td>...</td>\n",
              "      <td>...</td>\n",
              "    </tr>\n",
              "    <tr>\n",
              "      <th>69995</th>\n",
              "      <td>0.0</td>\n",
              "      <td>0.0</td>\n",
              "      <td>0.0</td>\n",
              "      <td>0.0</td>\n",
              "      <td>0.0</td>\n",
              "      <td>0.0</td>\n",
              "      <td>0.0</td>\n",
              "      <td>0.0</td>\n",
              "      <td>0.0</td>\n",
              "      <td>0.0</td>\n",
              "      <td>...</td>\n",
              "      <td>0.0</td>\n",
              "      <td>0.0</td>\n",
              "      <td>0.0</td>\n",
              "      <td>0.0</td>\n",
              "      <td>0.0</td>\n",
              "      <td>0.0</td>\n",
              "      <td>0.0</td>\n",
              "      <td>0.0</td>\n",
              "      <td>0.0</td>\n",
              "      <td>0.0</td>\n",
              "    </tr>\n",
              "    <tr>\n",
              "      <th>69996</th>\n",
              "      <td>0.0</td>\n",
              "      <td>0.0</td>\n",
              "      <td>0.0</td>\n",
              "      <td>0.0</td>\n",
              "      <td>0.0</td>\n",
              "      <td>0.0</td>\n",
              "      <td>0.0</td>\n",
              "      <td>0.0</td>\n",
              "      <td>0.0</td>\n",
              "      <td>0.0</td>\n",
              "      <td>...</td>\n",
              "      <td>0.0</td>\n",
              "      <td>0.0</td>\n",
              "      <td>0.0</td>\n",
              "      <td>0.0</td>\n",
              "      <td>0.0</td>\n",
              "      <td>0.0</td>\n",
              "      <td>0.0</td>\n",
              "      <td>0.0</td>\n",
              "      <td>0.0</td>\n",
              "      <td>0.0</td>\n",
              "    </tr>\n",
              "    <tr>\n",
              "      <th>69997</th>\n",
              "      <td>0.0</td>\n",
              "      <td>0.0</td>\n",
              "      <td>0.0</td>\n",
              "      <td>0.0</td>\n",
              "      <td>0.0</td>\n",
              "      <td>0.0</td>\n",
              "      <td>0.0</td>\n",
              "      <td>0.0</td>\n",
              "      <td>0.0</td>\n",
              "      <td>0.0</td>\n",
              "      <td>...</td>\n",
              "      <td>0.0</td>\n",
              "      <td>0.0</td>\n",
              "      <td>0.0</td>\n",
              "      <td>0.0</td>\n",
              "      <td>0.0</td>\n",
              "      <td>0.0</td>\n",
              "      <td>0.0</td>\n",
              "      <td>0.0</td>\n",
              "      <td>0.0</td>\n",
              "      <td>0.0</td>\n",
              "    </tr>\n",
              "    <tr>\n",
              "      <th>69998</th>\n",
              "      <td>0.0</td>\n",
              "      <td>0.0</td>\n",
              "      <td>0.0</td>\n",
              "      <td>0.0</td>\n",
              "      <td>0.0</td>\n",
              "      <td>0.0</td>\n",
              "      <td>0.0</td>\n",
              "      <td>0.0</td>\n",
              "      <td>0.0</td>\n",
              "      <td>0.0</td>\n",
              "      <td>...</td>\n",
              "      <td>0.0</td>\n",
              "      <td>0.0</td>\n",
              "      <td>0.0</td>\n",
              "      <td>0.0</td>\n",
              "      <td>0.0</td>\n",
              "      <td>0.0</td>\n",
              "      <td>0.0</td>\n",
              "      <td>0.0</td>\n",
              "      <td>0.0</td>\n",
              "      <td>0.0</td>\n",
              "    </tr>\n",
              "    <tr>\n",
              "      <th>69999</th>\n",
              "      <td>0.0</td>\n",
              "      <td>0.0</td>\n",
              "      <td>0.0</td>\n",
              "      <td>0.0</td>\n",
              "      <td>0.0</td>\n",
              "      <td>0.0</td>\n",
              "      <td>0.0</td>\n",
              "      <td>0.0</td>\n",
              "      <td>0.0</td>\n",
              "      <td>0.0</td>\n",
              "      <td>...</td>\n",
              "      <td>0.0</td>\n",
              "      <td>0.0</td>\n",
              "      <td>0.0</td>\n",
              "      <td>0.0</td>\n",
              "      <td>0.0</td>\n",
              "      <td>0.0</td>\n",
              "      <td>0.0</td>\n",
              "      <td>0.0</td>\n",
              "      <td>0.0</td>\n",
              "      <td>0.0</td>\n",
              "    </tr>\n",
              "  </tbody>\n",
              "</table>\n",
              "<p>70000 rows × 784 columns</p>\n",
              "</div>\n",
              "      <button class=\"colab-df-convert\" onclick=\"convertToInteractive('df-3ea5805c-3ae7-4dc6-97d8-8b2f0c1fb5af')\"\n",
              "              title=\"Convert this dataframe to an interactive table.\"\n",
              "              style=\"display:none;\">\n",
              "        \n",
              "  <svg xmlns=\"http://www.w3.org/2000/svg\" height=\"24px\"viewBox=\"0 0 24 24\"\n",
              "       width=\"24px\">\n",
              "    <path d=\"M0 0h24v24H0V0z\" fill=\"none\"/>\n",
              "    <path d=\"M18.56 5.44l.94 2.06.94-2.06 2.06-.94-2.06-.94-.94-2.06-.94 2.06-2.06.94zm-11 1L8.5 8.5l.94-2.06 2.06-.94-2.06-.94L8.5 2.5l-.94 2.06-2.06.94zm10 10l.94 2.06.94-2.06 2.06-.94-2.06-.94-.94-2.06-.94 2.06-2.06.94z\"/><path d=\"M17.41 7.96l-1.37-1.37c-.4-.4-.92-.59-1.43-.59-.52 0-1.04.2-1.43.59L10.3 9.45l-7.72 7.72c-.78.78-.78 2.05 0 2.83L4 21.41c.39.39.9.59 1.41.59.51 0 1.02-.2 1.41-.59l7.78-7.78 2.81-2.81c.8-.78.8-2.07 0-2.86zM5.41 20L4 18.59l7.72-7.72 1.47 1.35L5.41 20z\"/>\n",
              "  </svg>\n",
              "      </button>\n",
              "      \n",
              "  <style>\n",
              "    .colab-df-container {\n",
              "      display:flex;\n",
              "      flex-wrap:wrap;\n",
              "      gap: 12px;\n",
              "    }\n",
              "\n",
              "    .colab-df-convert {\n",
              "      background-color: #E8F0FE;\n",
              "      border: none;\n",
              "      border-radius: 50%;\n",
              "      cursor: pointer;\n",
              "      display: none;\n",
              "      fill: #1967D2;\n",
              "      height: 32px;\n",
              "      padding: 0 0 0 0;\n",
              "      width: 32px;\n",
              "    }\n",
              "\n",
              "    .colab-df-convert:hover {\n",
              "      background-color: #E2EBFA;\n",
              "      box-shadow: 0px 1px 2px rgba(60, 64, 67, 0.3), 0px 1px 3px 1px rgba(60, 64, 67, 0.15);\n",
              "      fill: #174EA6;\n",
              "    }\n",
              "\n",
              "    [theme=dark] .colab-df-convert {\n",
              "      background-color: #3B4455;\n",
              "      fill: #D2E3FC;\n",
              "    }\n",
              "\n",
              "    [theme=dark] .colab-df-convert:hover {\n",
              "      background-color: #434B5C;\n",
              "      box-shadow: 0px 1px 3px 1px rgba(0, 0, 0, 0.15);\n",
              "      filter: drop-shadow(0px 1px 2px rgba(0, 0, 0, 0.3));\n",
              "      fill: #FFFFFF;\n",
              "    }\n",
              "  </style>\n",
              "\n",
              "      <script>\n",
              "        const buttonEl =\n",
              "          document.querySelector('#df-3ea5805c-3ae7-4dc6-97d8-8b2f0c1fb5af button.colab-df-convert');\n",
              "        buttonEl.style.display =\n",
              "          google.colab.kernel.accessAllowed ? 'block' : 'none';\n",
              "\n",
              "        async function convertToInteractive(key) {\n",
              "          const element = document.querySelector('#df-3ea5805c-3ae7-4dc6-97d8-8b2f0c1fb5af');\n",
              "          const dataTable =\n",
              "            await google.colab.kernel.invokeFunction('convertToInteractive',\n",
              "                                                     [key], {});\n",
              "          if (!dataTable) return;\n",
              "\n",
              "          const docLinkHtml = 'Like what you see? Visit the ' +\n",
              "            '<a target=\"_blank\" href=https://colab.research.google.com/notebooks/data_table.ipynb>data table notebook</a>'\n",
              "            + ' to learn more about interactive tables.';\n",
              "          element.innerHTML = '';\n",
              "          dataTable['output_type'] = 'display_data';\n",
              "          await google.colab.output.renderOutput(dataTable, element);\n",
              "          const docLink = document.createElement('div');\n",
              "          docLink.innerHTML = docLinkHtml;\n",
              "          element.appendChild(docLink);\n",
              "        }\n",
              "      </script>\n",
              "    </div>\n",
              "  </div>\n",
              "  "
            ]
          },
          "metadata": {},
          "execution_count": 529
        }
      ]
    },
    {
      "cell_type": "markdown",
      "source": [
        "Convert dataframe to numpy."
      ],
      "metadata": {
        "id": "Cd_9ouBFZUXY"
      }
    },
    {
      "cell_type": "code",
      "source": [
        "mnist.data = mnist.data.to_numpy()\n",
        "mnist.data.shape"
      ],
      "metadata": {
        "colab": {
          "base_uri": "https://localhost:8080/"
        },
        "id": "JjTx3ERXKXGq",
        "outputId": "0e7eb12d-b741-44c0-82ef-a130e80156ef"
      },
      "execution_count": 530,
      "outputs": [
        {
          "output_type": "execute_result",
          "data": {
            "text/plain": [
              "(70000, 784)"
            ]
          },
          "metadata": {},
          "execution_count": 530
        }
      ]
    },
    {
      "cell_type": "code",
      "source": [
        "mnist.data[0].shape"
      ],
      "metadata": {
        "colab": {
          "base_uri": "https://localhost:8080/"
        },
        "id": "KR_iEIbWKQse",
        "outputId": "b8e44f97-1a0f-403a-d505-b6c53dfe341b"
      },
      "execution_count": 531,
      "outputs": [
        {
          "output_type": "execute_result",
          "data": {
            "text/plain": [
              "(784,)"
            ]
          },
          "metadata": {},
          "execution_count": 531
        }
      ]
    },
    {
      "cell_type": "markdown",
      "source": [
        "Xem thử 1 ảnh"
      ],
      "metadata": {
        "id": "1D_-UzXGZt7F"
      }
    },
    {
      "cell_type": "code",
      "source": [
        "import matplotlib.pyplot as plt\n",
        "plt.imshow(mnist.data[0].reshape(28,28), cmap='gray')"
      ],
      "metadata": {
        "colab": {
          "base_uri": "https://localhost:8080/",
          "height": 283
        },
        "id": "MDFfUntbJYbu",
        "outputId": "9e14ec0f-2c01-4f1b-dc9e-5b3e2559c3f4"
      },
      "execution_count": 532,
      "outputs": [
        {
          "output_type": "execute_result",
          "data": {
            "text/plain": [
              "<matplotlib.image.AxesImage at 0x7fab01835410>"
            ]
          },
          "metadata": {},
          "execution_count": 532
        },
        {
          "output_type": "display_data",
          "data": {
            "text/plain": [
              "<Figure size 432x288 with 1 Axes>"
            ],
            "image/png": "[encoded data removed]"
          },
          "metadata": {
            "needs_background": "light"
          }
        }
      ]
    },
    {
      "cell_type": "code",
      "source": [
        "mnist.target[0]"
      ],
      "metadata": {
        "colab": {
          "base_uri": "https://localhost:8080/",
          "height": 35
        },
        "id": "v1laPLiEJsTh",
        "outputId": "20238c99-65dd-4f7c-8af4-988b33cb1535"
      },
      "execution_count": 533,
      "outputs": [
        {
          "output_type": "execute_result",
          "data": {
            "text/plain": [
              "'5'"
            ],
            "application/vnd.google.colaboratory.intrinsic+json": {
              "type": "string"
            }
          },
          "metadata": {},
          "execution_count": 533
        }
      ]
    },
    {
      "cell_type": "markdown",
      "source": [
        "Split dataset:\n",
        "\n",
        "\n",
        "*   Chia tập dữ liệu ban đầu thành 2 tập training và testing với tỉ lệ 80:20\n",
        "*   Chia tập train thành 2 tập là training và validation với tỉ lệ 75:25\n",
        "\n",
        "=> training : validation : testing = 60 : 20 : 20\n",
        "\n"
      ],
      "metadata": {
        "id": "93HD4GM_Z2NK"
      }
    },
    {
      "cell_type": "code",
      "source": [
        "from sklearn.model_selection import train_test_split\n",
        "# test_size: what proportion of original data is used for test set\n",
        "train_val_img, test_img, train_val_lbl, test_lbl = train_test_split( mnist.data, mnist.target, test_size=0.2, random_state=11011, shuffle=True)\n"
      ],
      "metadata": {
        "id": "kfooHRuzOfKF"
      },
      "execution_count": 534,
      "outputs": []
    },
    {
      "cell_type": "code",
      "source": [
        "train_img, val_img, train_lbl, val_lbl = train_test_split( train_val_img, train_val_lbl, test_size=0.25, random_state=11011, shuffle=True)\n",
        "train_img.shape"
      ],
      "metadata": {
        "colab": {
          "base_uri": "https://localhost:8080/"
        },
        "id": "4eCuEElLh3r9",
        "outputId": "093ed3d9-a472-4b9f-a03d-a98bc8c0dece"
      },
      "execution_count": 535,
      "outputs": [
        {
          "output_type": "execute_result",
          "data": {
            "text/plain": [
              "(42000, 784)"
            ]
          },
          "metadata": {},
          "execution_count": 535
        }
      ]
    },
    {
      "cell_type": "code",
      "source": [
        "print(\"train_img.shape:\",train_img.shape)\n",
        "print(\"val_img.shape:\",val_img.shape)\n",
        "print(\"test_img.shape:\",test_img.shape)"
      ],
      "metadata": {
        "colab": {
          "base_uri": "https://localhost:8080/"
        },
        "id": "jeY3aO3Ai3uy",
        "outputId": "2cbccf12-0bc7-439c-960a-3f4e0d4b8618"
      },
      "execution_count": 536,
      "outputs": [
        {
          "output_type": "stream",
          "name": "stdout",
          "text": [
            "train_img.shape: (42000, 784)\n",
            "val_img.shape: (14000, 784)\n",
            "test_img.shape: (14000, 784)\n"
          ]
        }
      ]
    },
    {
      "cell_type": "markdown",
      "source": [
        "Converts vector (n samples, ) to binary matrix (n, 10). Giống one-hot vector.\n",
        "\n",
        "10 cột tương ứng với xác suất của 10 class trong mỗi sample."
      ],
      "metadata": {
        "id": "oXa680c2kSZ9"
      }
    },
    {
      "cell_type": "code",
      "source": [
        "train_onehot_lbl = to_categorical(train_lbl,num_classes=10)\n",
        "test_onehot_lbl = to_categorical(test_lbl,num_classes=10)\n",
        "val_onehot_lbl = to_categorical(val_lbl,num_classes=10)\n",
        "\n",
        "train_onehot_lbl[0:5]"
      ],
      "metadata": {
        "colab": {
          "base_uri": "https://localhost:8080/"
        },
        "id": "Xuhu7Y3qPvPh",
        "outputId": "4cf381dc-de9f-44ab-aea5-b5aac5cb0845"
      },
      "execution_count": 537,
      "outputs": [
        {
          "output_type": "execute_result",
          "data": {
            "text/plain": [
              "array([[0., 0., 0., 0., 1., 0., 0., 0., 0., 0.],\n",
              "       [0., 0., 0., 0., 0., 0., 1., 0., 0., 0.],\n",
              "       [1., 0., 0., 0., 0., 0., 0., 0., 0., 0.],\n",
              "       [0., 0., 0., 0., 0., 0., 0., 0., 0., 1.],\n",
              "       [1., 0., 0., 0., 0., 0., 0., 0., 0., 0.]], dtype=float32)"
            ]
          },
          "metadata": {},
          "execution_count": 537
        }
      ]
    },
    {
      "cell_type": "markdown",
      "source": [
        "\n",
        "Gán số lượng nodes trong hidden layers (chưa bao gồm bias node).\n",
        "\n",
        "Tổng cộng 5 layers: Input, Output, 3x Hidden layers. \n",
        "\n"
      ],
      "metadata": {
        "id": "j-vBWbuGqCxk"
      }
    },
    {
      "cell_type": "code",
      "source": [
        "from tensorflow.keras import regularizers\n"
      ],
      "metadata": {
        "id": "GFOjta1QrKzJ"
      },
      "execution_count": 538,
      "outputs": []
    },
    {
      "cell_type": "code",
      "source": [
        "#hiden layer nodes\n",
        "n1 = 300\n",
        "n2 = 200\n",
        "n3 = 100"
      ],
      "metadata": {
        "id": "r62tjiINY7q8"
      },
      "execution_count": 539,
      "outputs": []
    },
    {
      "cell_type": "markdown",
      "source": [
        "Create model"
      ],
      "metadata": {
        "id": "DRabkaYLrfdk"
      }
    },
    {
      "cell_type": "code",
      "source": [
        "\n",
        "\n",
        "input_layer = Input(shape=(784,))\n",
        "\n",
        "hidden_layer_1 = Dense(n1,activation=tf.keras.layers.LeakyReLU(alpha=0.0015), bias_initializer=constant(value=1.))(input_layer)\n",
        "hidden_layer_2 = Dense(n2,activation=tf.keras.layers.ELU(alpha=0.0001), bias_initializer=constant(value=1.))(hidden_layer_1)\n",
        "hidden_layer_3 = Dense(n3,activation=\"sigmoid\", bias_initializer=constant(value=1.),kernel_regularizer=regularizers.l1(0.01))(hidden_layer_2)\n",
        "\n",
        "dense_layer = Dense(10, activation=\"softmax\", bias_initializer=constant(value=1.0))(hidden_layer_3)\n",
        "\n",
        "model = Model(inputs=input_layer, outputs=dense_layer)\n",
        "model.compile(loss='categorical_crossentropy', optimizer=tf.keras.optimizers.Adam(learning_rate=0.0015), metrics=[\"accuracy\"])\n",
        "\n"
      ],
      "metadata": {
        "id": "ZO4jw3eHP4Xl"
      },
      "execution_count": 540,
      "outputs": []
    },
    {
      "cell_type": "markdown",
      "source": [
        "Define checkpoint"
      ],
      "metadata": {
        "id": "HxjT0cVgP76S"
      }
    },
    {
      "cell_type": "code",
      "source": [
        "# define the checkpoint\n",
        "\n",
        "filepath = \"model.h5\"\n",
        "checkpoint = tf.keras.callbacks.ModelCheckpoint(filepath, monitor='loss', verbose=1, save_best_only=True, mode='min')\n",
        "callbacks_list = [checkpoint]"
      ],
      "metadata": {
        "id": "Le27ATodP3Qd"
      },
      "execution_count": 541,
      "outputs": []
    },
    {
      "cell_type": "markdown",
      "source": [
        "Train with training data"
      ],
      "metadata": {
        "id": "z4gZ_mTUQCO8"
      }
    },
    {
      "cell_type": "code",
      "source": [
        "history = model.fit(train_img,train_onehot_lbl,validation_data=(val_img,val_onehot_lbl), epochs= 15, batch_size=1024,callbacks=callbacks_list)\n"
      ],
      "metadata": {
        "colab": {
          "base_uri": "https://localhost:8080/"
        },
        "id": "5fUI0ZVCQHMQ",
        "outputId": "9052c99b-e76b-4644-f2f3-db91c9b8b883"
      },
      "execution_count": 542,
      "outputs": [
        {
          "output_type": "stream",
          "name": "stdout",
          "text": [
            "Epoch 1/15\n",
            "41/42 [============================>.] - ETA: 0s - loss: 10.7052 - accuracy: 0.7666\n",
            "Epoch 1: loss improved from inf to 10.70354, saving model to model.h5\n",
            "42/42 [==============================] - 3s 54ms/step - loss: 10.7035 - accuracy: 0.7666 - val_loss: 6.1024 - val_accuracy: 0.8954\n",
            "Epoch 2/15\n",
            "41/42 [============================>.] - ETA: 0s - loss: 3.6563 - accuracy: 0.9123\n",
            "Epoch 2: loss improved from 10.70354 to 3.65559, saving model to model.h5\n",
            "42/42 [==============================] - 2s 49ms/step - loss: 3.6556 - accuracy: 0.9123 - val_loss: 1.7232 - val_accuracy: 0.9266\n",
            "Epoch 3/15\n",
            "41/42 [============================>.] - ETA: 0s - loss: 1.1393 - accuracy: 0.9363\n",
            "Epoch 3: loss improved from 3.65559 to 1.13918, saving model to model.h5\n",
            "42/42 [==============================] - 5s 131ms/step - loss: 1.1392 - accuracy: 0.9363 - val_loss: 0.7701 - val_accuracy: 0.9301\n",
            "Epoch 4/15\n",
            "41/42 [============================>.] - ETA: 0s - loss: 0.5765 - accuracy: 0.9539\n",
            "Epoch 4: loss improved from 1.13918 to 0.57640, saving model to model.h5\n",
            "42/42 [==============================] - 3s 60ms/step - loss: 0.5764 - accuracy: 0.9539 - val_loss: 0.6006 - val_accuracy: 0.8894\n",
            "Epoch 5/15\n",
            "40/42 [===========================>..] - ETA: 0s - loss: 0.4242 - accuracy: 0.9617\n",
            "Epoch 5: loss improved from 0.57640 to 0.42233, saving model to model.h5\n",
            "42/42 [==============================] - 3s 62ms/step - loss: 0.4223 - accuracy: 0.9617 - val_loss: 0.3472 - val_accuracy: 0.9578\n",
            "Epoch 6/15\n",
            "41/42 [============================>.] - ETA: 0s - loss: 0.2687 - accuracy: 0.9729\n",
            "Epoch 6: loss improved from 0.42233 to 0.26869, saving model to model.h5\n",
            "42/42 [==============================] - 2s 48ms/step - loss: 0.2687 - accuracy: 0.9729 - val_loss: 0.3007 - val_accuracy: 0.9544\n",
            "Epoch 7/15\n",
            "40/42 [===========================>..] - ETA: 0s - loss: 0.2187 - accuracy: 0.9774\n",
            "Epoch 7: loss improved from 0.26869 to 0.21875, saving model to model.h5\n",
            "42/42 [==============================] - 2s 48ms/step - loss: 0.2188 - accuracy: 0.9773 - val_loss: 0.3031 - val_accuracy: 0.9478\n",
            "Epoch 8/15\n",
            "40/42 [===========================>..] - ETA: 0s - loss: 0.2083 - accuracy: 0.9806\n",
            "Epoch 8: loss improved from 0.21875 to 0.20824, saving model to model.h5\n",
            "42/42 [==============================] - 2s 48ms/step - loss: 0.2082 - accuracy: 0.9804 - val_loss: 0.2882 - val_accuracy: 0.9519\n",
            "Epoch 9/15\n",
            "42/42 [==============================] - ETA: 0s - loss: 0.2269 - accuracy: 0.9822\n",
            "Epoch 9: loss did not improve from 0.20824\n",
            "42/42 [==============================] - 2s 48ms/step - loss: 0.2269 - accuracy: 0.9822 - val_loss: 0.4072 - val_accuracy: 0.9241\n",
            "Epoch 10/15\n",
            "40/42 [===========================>..] - ETA: 0s - loss: 0.2735 - accuracy: 0.9797\n",
            "Epoch 10: loss did not improve from 0.20824\n",
            "42/42 [==============================] - 2s 48ms/step - loss: 0.2711 - accuracy: 0.9799 - val_loss: 0.2202 - val_accuracy: 0.9706\n",
            "Epoch 11/15\n",
            "41/42 [============================>.] - ETA: 0s - loss: 0.1471 - accuracy: 0.9890\n",
            "Epoch 11: loss improved from 0.20824 to 0.14716, saving model to model.h5\n",
            "42/42 [==============================] - 2s 48ms/step - loss: 0.1472 - accuracy: 0.9890 - val_loss: 0.5675 - val_accuracy: 0.8533\n",
            "Epoch 12/15\n",
            "40/42 [===========================>..] - ETA: 0s - loss: 0.2551 - accuracy: 0.9817\n",
            "Epoch 12: loss did not improve from 0.14716\n",
            "42/42 [==============================] - 2s 48ms/step - loss: 0.2527 - accuracy: 0.9819 - val_loss: 0.2147 - val_accuracy: 0.9724\n",
            "Epoch 13/15\n",
            "41/42 [============================>.] - ETA: 0s - loss: 0.1248 - accuracy: 0.9927\n",
            "Epoch 13: loss improved from 0.14716 to 0.12476, saving model to model.h5\n",
            "42/42 [==============================] - 2s 48ms/step - loss: 0.1248 - accuracy: 0.9927 - val_loss: 0.1756 - val_accuracy: 0.9714\n",
            "Epoch 14/15\n",
            "40/42 [===========================>..] - ETA: 0s - loss: 0.1037 - accuracy: 0.9944\n",
            "Epoch 14: loss improved from 0.12476 to 0.10364, saving model to model.h5\n",
            "42/42 [==============================] - 2s 48ms/step - loss: 0.1036 - accuracy: 0.9943 - val_loss: 0.1856 - val_accuracy: 0.9665\n",
            "Epoch 15/15\n",
            "40/42 [===========================>..] - ETA: 0s - loss: 0.1071 - accuracy: 0.9937\n",
            "Epoch 15: loss did not improve from 0.10364\n",
            "42/42 [==============================] - 2s 48ms/step - loss: 0.1068 - accuracy: 0.9938 - val_loss: 0.1611 - val_accuracy: 0.9739\n"
          ]
        }
      ]
    },
    {
      "cell_type": "markdown",
      "source": [
        "Vẽ chart để kiểm tra vấn đề underfit và overfit. Qua chart bên dưới ta thấy training tốt"
      ],
      "metadata": {
        "id": "B21_0Ap6swa_"
      }
    },
    {
      "cell_type": "code",
      "source": [
        "plt.plot(history.history['loss'])\n",
        "plt.plot(history.history['val_loss'])\n",
        "plt.title('model loss')\n",
        "plt.ylabel('loss')\n",
        "plt.xlabel('epoch')\n",
        "plt.legend(['train', 'val'], loc='upper left')\n",
        "plt.show()"
      ],
      "metadata": {
        "colab": {
          "base_uri": "https://localhost:8080/",
          "height": 295
        },
        "id": "VxPU7q5aVpvt",
        "outputId": "6a60cf0d-09bb-433c-c62b-0f8ea3b8c303"
      },
      "execution_count": 543,
      "outputs": [
        {
          "output_type": "display_data",
          "data": {
            "text/plain": [
              "<Figure size 432x288 with 1 Axes>"
            ],
            "image/png": "[encoded data removed]"
          },
          "metadata": {
            "needs_background": "light"
          }
        }
      ]
    },
    {
      "cell_type": "markdown",
      "source": [
        "Show summary"
      ],
      "metadata": {
        "id": "k4fYW7_RNwIX"
      }
    },
    {
      "cell_type": "code",
      "source": [
        "model.summary()"
      ],
      "metadata": {
        "colab": {
          "base_uri": "https://localhost:8080/"
        },
        "id": "iaPYDcJwYaRe",
        "outputId": "c884b238-72e5-447c-848e-7e921c9d87b9"
      },
      "execution_count": 544,
      "outputs": [
        {
          "output_type": "stream",
          "name": "stdout",
          "text": [
            "Model: \"model_46\"\n",
            "_________________________________________________________________\n",
            " Layer (type)                Output Shape              Param #   \n",
            "=================================================================\n",
            " input_48 (InputLayer)       [(None, 784)]             0         \n",
            "                                                                 \n",
            " dense_184 (Dense)           (None, 300)               235500    \n",
            "                                                                 \n",
            " dense_185 (Dense)           (None, 200)               60200     \n",
            "                                                                 \n",
            " dense_186 (Dense)           (None, 100)               20100     \n",
            "                                                                 \n",
            " dense_187 (Dense)           (None, 10)                1010      \n",
            "                                                                 \n",
            "=================================================================\n",
            "Total params: 316,810\n",
            "Trainable params: 316,810\n",
            "Non-trainable params: 0\n",
            "_________________________________________________________________\n"
          ]
        }
      ]
    },
    {
      "cell_type": "markdown",
      "source": [
        "\n",
        "Sử dụng pre-train weight để train tiếp với tập (training + validation) dataset"
      ],
      "metadata": {
        "id": "sWd3zpaTPiMi"
      }
    },
    {
      "cell_type": "code",
      "source": [
        "train_val_onehot_lbl = to_categorical(train_val_lbl,num_classes=10)"
      ],
      "metadata": {
        "id": "LkDDm19yb84n"
      },
      "execution_count": 545,
      "outputs": []
    },
    {
      "cell_type": "code",
      "source": [
        "# load the model\n",
        "new_model = tf.keras.models.load_model(filepath)\n",
        "\n",
        "# fit the model\n",
        "checkpoint = tf.keras.callbacks.ModelCheckpoint(filepath, monitor='loss', verbose=1, save_best_only=True, mode='min')\n",
        "callbacks_list = [checkpoint]\n",
        "\n",
        "new_history = new_model.fit(train_val_img,train_val_onehot_lbl,validation_data=None, epochs= 5, batch_size=1024,callbacks=callbacks_list)\n"
      ],
      "metadata": {
        "colab": {
          "base_uri": "https://localhost:8080/"
        },
        "id": "xU6JOriTQ9Fe",
        "outputId": "6c741f37-dc60-4947-88ec-17bc2256fc87"
      },
      "execution_count": 546,
      "outputs": [
        {
          "output_type": "stream",
          "name": "stdout",
          "text": [
            "Epoch 1/5\n",
            "55/55 [==============================] - ETA: 0s - loss: 0.1271 - accuracy: 0.9878\n",
            "Epoch 1: loss improved from inf to 0.12712, saving model to model.h5\n",
            "55/55 [==============================] - 3s 44ms/step - loss: 0.1271 - accuracy: 0.9878\n",
            "Epoch 2/5\n",
            "55/55 [==============================] - ETA: 0s - loss: 0.1067 - accuracy: 0.9919\n",
            "Epoch 2: loss improved from 0.12712 to 0.10673, saving model to model.h5\n",
            "55/55 [==============================] - 2s 42ms/step - loss: 0.1067 - accuracy: 0.9919\n",
            "Epoch 3/5\n",
            "54/55 [============================>.] - ETA: 0s - loss: 0.0973 - accuracy: 0.9936\n",
            "Epoch 3: loss improved from 0.10673 to 0.09762, saving model to model.h5\n",
            "55/55 [==============================] - 2s 42ms/step - loss: 0.0976 - accuracy: 0.9934\n",
            "Epoch 4/5\n",
            "54/55 [============================>.] - ETA: 0s - loss: 0.0965 - accuracy: 0.9946\n",
            "Epoch 4: loss improved from 0.09762 to 0.09636, saving model to model.h5\n",
            "55/55 [==============================] - 2s 42ms/step - loss: 0.0964 - accuracy: 0.9946\n",
            "Epoch 5/5\n",
            "54/55 [============================>.] - ETA: 0s - loss: 0.0830 - accuracy: 0.9965\n",
            "Epoch 5: loss improved from 0.09636 to 0.08291, saving model to model.h5\n",
            "55/55 [==============================] - 2s 43ms/step - loss: 0.0829 - accuracy: 0.9964\n"
          ]
        }
      ]
    },
    {
      "cell_type": "markdown",
      "source": [
        "Predict all test samples"
      ],
      "metadata": {
        "id": "GfxDLw8ANj1c"
      }
    },
    {
      "cell_type": "code",
      "source": [
        "pred = new_model.predict(test_img)\n",
        "pred"
      ],
      "metadata": {
        "colab": {
          "base_uri": "https://localhost:8080/"
        },
        "id": "zxKgjR9QhA_1",
        "outputId": "6da31530-8420-4236-e9b3-9f250391ed59"
      },
      "execution_count": 547,
      "outputs": [
        {
          "output_type": "execute_result",
          "data": {
            "text/plain": [
              "array([[9.99177039e-01, 2.34327435e-05, 1.88829275e-04, ...,\n",
              "        1.65897261e-04, 8.24890321e-06, 4.17696756e-05],\n",
              "       [4.95399036e-05, 3.77063232e-04, 3.54464486e-04, ...,\n",
              "        9.97758508e-01, 1.24647568e-05, 3.34662182e-04],\n",
              "       [2.22574541e-04, 3.35676334e-04, 7.56283271e-06, ...,\n",
              "        4.70515166e-04, 4.98942158e-04, 9.94603693e-01],\n",
              "       ...,\n",
              "       [3.23652857e-05, 2.03167569e-04, 4.44739970e-04, ...,\n",
              "        2.02775205e-04, 9.95153427e-01, 9.86497384e-04],\n",
              "       [6.16183461e-05, 2.07132791e-04, 8.70153326e-06, ...,\n",
              "        3.66319611e-04, 5.95456222e-04, 9.97164547e-01],\n",
              "       [9.98739064e-01, 1.64155499e-05, 3.65963031e-04, ...,\n",
              "        8.33702870e-05, 4.46249396e-05, 1.08578046e-04]], dtype=float32)"
            ]
          },
          "metadata": {},
          "execution_count": 547
        }
      ]
    },
    {
      "cell_type": "markdown",
      "source": [
        "Compute accuracy on test samples"
      ],
      "metadata": {
        "id": "sdJZWe2uOEe3"
      }
    },
    {
      "cell_type": "code",
      "source": [
        "np.sum(np.argmax(pred,axis=1) == np.argmax(test_onehot_lbl,axis=1))/len(test_onehot_lbl)"
      ],
      "metadata": {
        "colab": {
          "base_uri": "https://localhost:8080/"
        },
        "id": "zoiWdCdgf9Z5",
        "outputId": "1461cb52-0f25-4784-e769-b93caee867aa"
      },
      "execution_count": 548,
      "outputs": [
        {
          "output_type": "execute_result",
          "data": {
            "text/plain": [
              "0.9802857142857143"
            ]
          },
          "metadata": {},
          "execution_count": 548
        }
      ]
    },
    {
      "cell_type": "markdown",
      "source": [
        "=> Accuracy: 0.9802857142857143"
      ],
      "metadata": {
        "id": "W_h8s0oFOrGB"
      }
    },
    {
      "cell_type": "markdown",
      "source": [
        "Kết thúc!\n",
        "\n",
        "---\n",
        "\n",
        "\n",
        "\n",
        "\n"
      ],
      "metadata": {
        "id": "68KYiGI0TZzt"
      }
    }
  ]
}