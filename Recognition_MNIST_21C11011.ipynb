{
  "nbformat": 4,
  "nbformat_minor": 0,
  "metadata": {
    "colab": {
      "name": "Recognition_MNIST_21C11011.ipynb",
      "provenance": [],
      "collapsed_sections": [],
      "authorship_tag": "ABX9TyOXm0xdiHhBR6T+psdfglmF",
      "include_colab_link": true
    },
    "kernelspec": {
      "name": "python3",
      "display_name": "Python 3"
    },
    "language_info": {
      "name": "python"
    }
  },
  "cells": [
    {
      "cell_type": "markdown",
      "metadata": {
        "id": "view-in-github",
        "colab_type": "text"
      },
      "source": [
        "<a href=\"https://colab.research.google.com/github/huynhhoanghuy/MS_deeplearning_project_MNIST/blob/main/Recognition_MNIST_21C11011.ipynb\" target=\"_parent\"><img src=\"https://colab.research.google.com/assets/colab-badge.svg\" alt=\"Open In Colab\"/></a>"
      ]
    },
    {
      "cell_type": "markdown",
      "source": [
        "# Thông tin học viên:\n",
        "MSHV: 21C11011\n",
        "\n",
        "Họ Tên: Huỳnh Hoàng Huy\n",
        "\n",
        "\n",
        "---\n",
        "\n"
      ],
      "metadata": {
        "id": "-CTMM4MxY-BP"
      }
    },
    {
      "cell_type": "markdown",
      "source": [
        "Để có thể có kết quả không đổi sau mỗi lần chạy lại (reproducible results), em thực hiện việc set random seed và train trên CPU."
      ],
      "metadata": {
        "id": "4HJbP_1StGih"
      }
    },
    {
      "cell_type": "code",
      "source": [
        "import tensorflow as tf\n",
        "from tensorflow.keras.layers import *\n",
        "from tensorflow.keras.models import Model\n",
        "from keras.initializers import constant\n",
        "from tensorflow.keras.utils import to_categorical\n",
        "\n"
      ],
      "metadata": {
        "id": "IBrrXQfcG85W"
      },
      "execution_count": 112,
      "outputs": []
    },
    {
      "cell_type": "code",
      "source": [
        "# Seed value\n",
        "seed_value= 11011\n",
        "\n",
        "# 1. Set `PYTHONHASHSEED` environment variable at a fixed value\n",
        "import os\n",
        "os.environ['PYTHONHASHSEED']=str(seed_value)\n",
        "\n",
        "# 2. Set `python` built-in pseudo-random generator at a fixed value\n",
        "import random\n",
        "random.seed(seed_value)\n",
        "\n",
        "# 3. Set `numpy` pseudo-random generator at a fixed value\n",
        "import numpy as np\n",
        "np.random.seed(seed_value)\n",
        "\n",
        "# 4. Set the `tensorflow` pseudo-random generator at a fixed value\n",
        "tf.random.set_seed(seed_value)\n",
        "\n",
        "# 5. Configure a new global `tensorflow` session\n",
        "import tensorflow.keras.backend as K\n",
        "session_conf = tf.compat.v1.ConfigProto(intra_op_parallelism_threads=1, inter_op_parallelism_threads=1)\n",
        "sess = tf.compat.v1.Session(graph=tf.compat.v1.get_default_graph(), config=session_conf)\n",
        "tf.compat.v1.keras.backend.set_session(sess)"
      ],
      "metadata": {
        "id": "HXxlfVt-i3ax"
      },
      "execution_count": 328,
      "outputs": []
    },
    {
      "cell_type": "markdown",
      "source": [
        "Load dataset"
      ],
      "metadata": {
        "id": "SdZGKRqiZO_I"
      }
    },
    {
      "cell_type": "code",
      "execution_count": 114,
      "metadata": {
        "id": "1nu8rSfuHpN2"
      },
      "outputs": [],
      "source": [
        "#Load MNIST dataset\n",
        "# MNIST dataset has a shape of (70000, 784) meaning there are 70,000 images with 784 dimensions (784 features).\n",
        "from sklearn.datasets import fetch_openml\n",
        "mnist = fetch_openml(\"mnist_784\")"
      ]
    },
    {
      "cell_type": "code",
      "source": [
        "mnist.data"
      ],
      "metadata": {
        "colab": {
          "base_uri": "https://localhost:8080/"
        },
        "id": "kdSxwsAEK6z4",
        "outputId": "00ac4b2d-11e4-44fd-c6c4-0916aecf5fa5"
      },
      "execution_count": 137,
      "outputs": [
        {
          "output_type": "execute_result",
          "data": {
            "text/plain": [
              "array([[0., 0., 0., ..., 0., 0., 0.],\n",
              "       [0., 0., 0., ..., 0., 0., 0.],\n",
              "       [0., 0., 0., ..., 0., 0., 0.],\n",
              "       ...,\n",
              "       [0., 0., 0., ..., 0., 0., 0.],\n",
              "       [0., 0., 0., ..., 0., 0., 0.],\n",
              "       [0., 0., 0., ..., 0., 0., 0.]])"
            ]
          },
          "metadata": {},
          "execution_count": 137
        }
      ]
    },
    {
      "cell_type": "markdown",
      "source": [
        "Convert dataframe to numpy."
      ],
      "metadata": {
        "id": "Cd_9ouBFZUXY"
      }
    },
    {
      "cell_type": "code",
      "source": [
        "mnist.data = mnist.data.to_numpy()\n",
        "mnist.data.shape"
      ],
      "metadata": {
        "colab": {
          "base_uri": "https://localhost:8080/",
          "height": 189
        },
        "id": "JjTx3ERXKXGq",
        "outputId": "6c660ca9-5e94-4e5a-eff0-d5333f85bccd"
      },
      "execution_count": 138,
      "outputs": [
        {
          "output_type": "error",
          "ename": "AttributeError",
          "evalue": "ignored",
          "traceback": [
            "\u001b[0;31m---------------------------------------------------------------------------\u001b[0m",
            "\u001b[0;31mAttributeError\u001b[0m                            Traceback (most recent call last)",
            "\u001b[0;32m<ipython-input-138-746b5d78735c>\u001b[0m in \u001b[0;36m<module>\u001b[0;34m()\u001b[0m\n\u001b[0;32m----> 1\u001b[0;31m \u001b[0mmnist\u001b[0m\u001b[0;34m.\u001b[0m\u001b[0mdata\u001b[0m \u001b[0;34m=\u001b[0m \u001b[0mmnist\u001b[0m\u001b[0;34m.\u001b[0m\u001b[0mdata\u001b[0m\u001b[0;34m.\u001b[0m\u001b[0mto_numpy\u001b[0m\u001b[0;34m(\u001b[0m\u001b[0;34m)\u001b[0m\u001b[0;34m\u001b[0m\u001b[0;34m\u001b[0m\u001b[0m\n\u001b[0m\u001b[1;32m      2\u001b[0m \u001b[0mmnist\u001b[0m\u001b[0;34m.\u001b[0m\u001b[0mdata\u001b[0m\u001b[0;34m.\u001b[0m\u001b[0mshape\u001b[0m\u001b[0;34m\u001b[0m\u001b[0;34m\u001b[0m\u001b[0m\n",
            "\u001b[0;31mAttributeError\u001b[0m: 'numpy.ndarray' object has no attribute 'to_numpy'"
          ]
        }
      ]
    },
    {
      "cell_type": "code",
      "source": [
        "mnist.data[0].shape"
      ],
      "metadata": {
        "colab": {
          "base_uri": "https://localhost:8080/"
        },
        "id": "KR_iEIbWKQse",
        "outputId": "0c3e7a76-3a29-4258-a0ef-6d74224db283"
      },
      "execution_count": 139,
      "outputs": [
        {
          "output_type": "execute_result",
          "data": {
            "text/plain": [
              "(784,)"
            ]
          },
          "metadata": {},
          "execution_count": 139
        }
      ]
    },
    {
      "cell_type": "markdown",
      "source": [
        "Xem thử 1 ảnh"
      ],
      "metadata": {
        "id": "1D_-UzXGZt7F"
      }
    },
    {
      "cell_type": "code",
      "source": [
        "import matplotlib.pyplot as plt\n",
        "plt.imshow(mnist.data[0].reshape(28,28), cmap='gray')"
      ],
      "metadata": {
        "colab": {
          "base_uri": "https://localhost:8080/",
          "height": 283
        },
        "id": "MDFfUntbJYbu",
        "outputId": "b3ea21a3-55d7-4ab6-d233-acc1cd063cd8"
      },
      "execution_count": 140,
      "outputs": [
        {
          "output_type": "execute_result",
          "data": {
            "text/plain": [
              "<matplotlib.image.AxesImage at 0x7f42c7988110>"
            ]
          },
          "metadata": {},
          "execution_count": 140
        },
        {
          "output_type": "display_data",
          "data": {
            "text/plain": [
              "<Figure size 432x288 with 1 Axes>"
            ],
            "image/png": "[encoded data removed]"
          },
          "metadata": {
            "needs_background": "light"
          }
        }
      ]
    },
    {
      "cell_type": "code",
      "source": [
        "mnist.target[0]"
      ],
      "metadata": {
        "colab": {
          "base_uri": "https://localhost:8080/",
          "height": 35
        },
        "id": "v1laPLiEJsTh",
        "outputId": "b79f9674-d410-4da9-a447-4e815ebc7358"
      },
      "execution_count": 141,
      "outputs": [
        {
          "output_type": "execute_result",
          "data": {
            "text/plain": [
              "'5'"
            ],
            "application/vnd.google.colaboratory.intrinsic+json": {
              "type": "string"
            }
          },
          "metadata": {},
          "execution_count": 141
        }
      ]
    },
    {
      "cell_type": "markdown",
      "source": [
        "Split dataset:\n",
        "\n",
        "\n",
        "*   Chia tập dữ liệu ban đầu thành 2 tập training và testing với tỉ lệ 80:20\n",
        "*   Chia tập train thành 2 tập là training và validation với tỉ lệ 75:25\n",
        "\n",
        "=> training : validation : testing = 60 : 20 : 20\n",
        "\n"
      ],
      "metadata": {
        "id": "93HD4GM_Z2NK"
      }
    },
    {
      "cell_type": "code",
      "source": [
        "from sklearn.model_selection import train_test_split\n",
        "# test_size: what proportion of original data is used for test set\n",
        "train_val_img, test_img, train_val_lbl, test_lbl = train_test_split( mnist.data, mnist.target, test_size=0.2, random_state=11011, shuffle=True)\n"
      ],
      "metadata": {
        "id": "kfooHRuzOfKF"
      },
      "execution_count": 158,
      "outputs": []
    },
    {
      "cell_type": "code",
      "source": [
        "train_img, val_img, train_lbl, val_lbl = train_test_split( train_val_img, train_val_lbl, test_size=0.25, random_state=11011, shuffle=True)\n",
        "train_img.shape"
      ],
      "metadata": {
        "colab": {
          "base_uri": "https://localhost:8080/"
        },
        "id": "4eCuEElLh3r9",
        "outputId": "bcbeeecf-3cd0-4174-f152-ef13072e3f80"
      },
      "execution_count": 159,
      "outputs": [
        {
          "output_type": "execute_result",
          "data": {
            "text/plain": [
              "(42000, 784)"
            ]
          },
          "metadata": {},
          "execution_count": 159
        }
      ]
    },
    {
      "cell_type": "code",
      "source": [
        "print(\"train_img.shape:\",train_img.shape)\n",
        "print(\"val_img.shape:\",val_img.shape)\n",
        "print(\"test_img.shape:\",test_img.shape)"
      ],
      "metadata": {
        "colab": {
          "base_uri": "https://localhost:8080/"
        },
        "id": "jeY3aO3Ai3uy",
        "outputId": "164a383e-8c00-4f9d-c751-ae0e295d7139"
      },
      "execution_count": 160,
      "outputs": [
        {
          "output_type": "stream",
          "name": "stdout",
          "text": [
            "train_img.shape: (42000, 784)\n",
            "val_img.shape: (14000, 784)\n",
            "test_img.shape: (14000, 784)\n"
          ]
        }
      ]
    },
    {
      "cell_type": "markdown",
      "source": [
        "Converts vector (n samples, ) to binary matrix (n, 10). Giống one-hot vector.\n",
        "\n",
        "10 cột tương ứng với xác suất của 10 class trong mỗi sample."
      ],
      "metadata": {
        "id": "oXa680c2kSZ9"
      }
    },
    {
      "cell_type": "code",
      "source": [
        "train_onehot_lbl = to_categorical(train_lbl,num_classes=10)\n",
        "test_onehot_lbl = to_categorical(test_lbl,num_classes=10)\n",
        "val_onehot_lbl = to_categorical(val_lbl,num_classes=10)\n",
        "\n",
        "train_onehot_lbl[0:5]"
      ],
      "metadata": {
        "colab": {
          "base_uri": "https://localhost:8080/"
        },
        "id": "Xuhu7Y3qPvPh",
        "outputId": "4b949ca7-505b-41f1-e1b9-1d8955787b6c"
      },
      "execution_count": 161,
      "outputs": [
        {
          "output_type": "execute_result",
          "data": {
            "text/plain": [
              "array([[0., 0., 0., 0., 1., 0., 0., 0., 0., 0.],\n",
              "       [0., 0., 0., 0., 0., 0., 1., 0., 0., 0.],\n",
              "       [1., 0., 0., 0., 0., 0., 0., 0., 0., 0.],\n",
              "       [0., 0., 0., 0., 0., 0., 0., 0., 0., 1.],\n",
              "       [1., 0., 0., 0., 0., 0., 0., 0., 0., 0.]], dtype=float32)"
            ]
          },
          "metadata": {},
          "execution_count": 161
        }
      ]
    },
    {
      "cell_type": "markdown",
      "source": [
        "\n",
        "Gán số lượng nodes trong hidden layers (chưa bao gồm bias node).\n",
        "\n",
        "Tổng cộng 5 layers: Input, Output, 3x Hidden layers. \n",
        "\n"
      ],
      "metadata": {
        "id": "j-vBWbuGqCxk"
      }
    },
    {
      "cell_type": "code",
      "source": [
        "#hiden layer nodes\n",
        "n1 = 300\n",
        "n2 = 200\n",
        "n3 = 100"
      ],
      "metadata": {
        "id": "r62tjiINY7q8"
      },
      "execution_count": 162,
      "outputs": []
    },
    {
      "cell_type": "markdown",
      "source": [
        "Create model"
      ],
      "metadata": {
        "id": "DRabkaYLrfdk"
      }
    },
    {
      "cell_type": "code",
      "source": [
        "\n",
        "\n",
        "input_layer = Input(shape=(784,))\n",
        "\n",
        "hidden_layer_1 = Dense(n1,activation=tf.keras.layers.LeakyReLU(alpha=0.0015), bias_initializer=constant(value=1.))(input_layer)\n",
        "hidden_layer_2 = Dense(n2,activation=tf.keras.layers.ELU(alpha=0.0001), bias_initializer=constant(value=1.))(hidden_layer_1)\n",
        "hidden_layer_3 = Dense(n3,activation=\"sigmoid\", bias_initializer=constant(value=1.))(hidden_layer_2)\n",
        "\n",
        "dense_layer = Dense(10, activation=\"softmax\", bias_initializer=constant(value=1.))(hidden_layer_3)\n",
        "\n",
        "model = Model(inputs=input_layer, outputs=dense_layer)\n",
        "model.compile(loss='categorical_crossentropy', optimizer=tf.keras.optimizers.Adam(learning_rate=0.0015), metrics=[\"accuracy\"])\n",
        "\n"
      ],
      "metadata": {
        "id": "ZO4jw3eHP4Xl"
      },
      "execution_count": 329,
      "outputs": []
    },
    {
      "cell_type": "markdown",
      "source": [
        "Define checkpoint"
      ],
      "metadata": {
        "id": "HxjT0cVgP76S"
      }
    },
    {
      "cell_type": "code",
      "source": [
        "# define the checkpoint\n",
        "\n",
        "filepath = \"model.h5\"\n",
        "checkpoint = tf.keras.callbacks.ModelCheckpoint(filepath, monitor='loss', verbose=1, save_best_only=True, mode='min')\n",
        "callbacks_list = [checkpoint]"
      ],
      "metadata": {
        "id": "Le27ATodP3Qd"
      },
      "execution_count": 330,
      "outputs": []
    },
    {
      "cell_type": "markdown",
      "source": [
        "Train with training data"
      ],
      "metadata": {
        "id": "z4gZ_mTUQCO8"
      }
    },
    {
      "cell_type": "code",
      "source": [
        "history = model.fit(train_img,train_onehot_lbl,validation_data=(val_img,val_onehot_lbl), epochs= 15, batch_size=1344,callbacks=callbacks_list)\n"
      ],
      "metadata": {
        "colab": {
          "base_uri": "https://localhost:8080/"
        },
        "id": "5fUI0ZVCQHMQ",
        "outputId": "73e18ecf-76dd-4808-fa22-f4a5e11cbd06"
      },
      "execution_count": 331,
      "outputs": [
        {
          "output_type": "stream",
          "name": "stdout",
          "text": [
            "Epoch 1/15\n",
            "31/32 [============================>.] - ETA: 0s - loss: 1.0415 - accuracy: 0.7440\n",
            "Epoch 1: loss improved from inf to 1.03748, saving model to model.h5\n",
            "32/32 [==============================] - 3s 70ms/step - loss: 1.0375 - accuracy: 0.7451 - val_loss: 0.5231 - val_accuracy: 0.8898\n",
            "Epoch 2/15\n",
            "31/32 [============================>.] - ETA: 0s - loss: 0.3989 - accuracy: 0.9102\n",
            "Epoch 2: loss improved from 1.03748 to 0.39751, saving model to model.h5\n",
            "32/32 [==============================] - 2s 64ms/step - loss: 0.3975 - accuracy: 0.9106 - val_loss: 0.3076 - val_accuracy: 0.9231\n",
            "Epoch 3/15\n",
            "31/32 [============================>.] - ETA: 0s - loss: 0.2627 - accuracy: 0.9340\n",
            "Epoch 3: loss improved from 0.39751 to 0.26233, saving model to model.h5\n",
            "32/32 [==============================] - 2s 63ms/step - loss: 0.2623 - accuracy: 0.9341 - val_loss: 0.2388 - val_accuracy: 0.9362\n",
            "Epoch 4/15\n",
            "31/32 [============================>.] - ETA: 0s - loss: 0.2029 - accuracy: 0.9465\n",
            "Epoch 4: loss improved from 0.26233 to 0.20246, saving model to model.h5\n",
            "32/32 [==============================] - 2s 63ms/step - loss: 0.2025 - accuracy: 0.9467 - val_loss: 0.1943 - val_accuracy: 0.9466\n",
            "Epoch 5/15\n",
            "31/32 [============================>.] - ETA: 0s - loss: 0.1640 - accuracy: 0.9564\n",
            "Epoch 5: loss improved from 0.20246 to 0.16407, saving model to model.h5\n",
            "32/32 [==============================] - 2s 64ms/step - loss: 0.1641 - accuracy: 0.9564 - val_loss: 0.1725 - val_accuracy: 0.9509\n",
            "Epoch 6/15\n",
            "31/32 [============================>.] - ETA: 0s - loss: 0.1385 - accuracy: 0.9623\n",
            "Epoch 6: loss improved from 0.16407 to 0.13850, saving model to model.h5\n",
            "32/32 [==============================] - 2s 65ms/step - loss: 0.1385 - accuracy: 0.9623 - val_loss: 0.1506 - val_accuracy: 0.9579\n",
            "Epoch 7/15\n",
            "31/32 [============================>.] - ETA: 0s - loss: 0.1218 - accuracy: 0.9675\n",
            "Epoch 7: loss improved from 0.13850 to 0.12225, saving model to model.h5\n",
            "32/32 [==============================] - 2s 64ms/step - loss: 0.1223 - accuracy: 0.9673 - val_loss: 0.1440 - val_accuracy: 0.9585\n",
            "Epoch 8/15\n",
            "31/32 [============================>.] - ETA: 0s - loss: 0.1070 - accuracy: 0.9700\n",
            "Epoch 8: loss improved from 0.12225 to 0.10689, saving model to model.h5\n",
            "32/32 [==============================] - 2s 64ms/step - loss: 0.1069 - accuracy: 0.9700 - val_loss: 0.1297 - val_accuracy: 0.9616\n",
            "Epoch 9/15\n",
            "31/32 [============================>.] - ETA: 0s - loss: 0.0890 - accuracy: 0.9762\n",
            "Epoch 9: loss improved from 0.10689 to 0.08900, saving model to model.h5\n",
            "32/32 [==============================] - 2s 64ms/step - loss: 0.0890 - accuracy: 0.9762 - val_loss: 0.1241 - val_accuracy: 0.9620\n",
            "Epoch 10/15\n",
            "31/32 [============================>.] - ETA: 0s - loss: 0.0800 - accuracy: 0.9779\n",
            "Epoch 10: loss improved from 0.08900 to 0.07996, saving model to model.h5\n",
            "32/32 [==============================] - 2s 64ms/step - loss: 0.0800 - accuracy: 0.9779 - val_loss: 0.1140 - val_accuracy: 0.9654\n",
            "Epoch 11/15\n",
            "31/32 [============================>.] - ETA: 0s - loss: 0.0698 - accuracy: 0.9804\n",
            "Epoch 11: loss improved from 0.07996 to 0.06960, saving model to model.h5\n",
            "32/32 [==============================] - 2s 65ms/step - loss: 0.0696 - accuracy: 0.9804 - val_loss: 0.1153 - val_accuracy: 0.9633\n",
            "Epoch 12/15\n",
            "31/32 [============================>.] - ETA: 0s - loss: 0.0609 - accuracy: 0.9829\n",
            "Epoch 12: loss improved from 0.06960 to 0.06075, saving model to model.h5\n",
            "32/32 [==============================] - 2s 64ms/step - loss: 0.0607 - accuracy: 0.9829 - val_loss: 0.1045 - val_accuracy: 0.9692\n",
            "Epoch 13/15\n",
            "31/32 [============================>.] - ETA: 0s - loss: 0.0563 - accuracy: 0.9838\n",
            "Epoch 13: loss improved from 0.06075 to 0.05607, saving model to model.h5\n",
            "32/32 [==============================] - 2s 65ms/step - loss: 0.0561 - accuracy: 0.9839 - val_loss: 0.1029 - val_accuracy: 0.9688\n",
            "Epoch 14/15\n",
            "31/32 [============================>.] - ETA: 0s - loss: 0.0489 - accuracy: 0.9862\n",
            "Epoch 14: loss improved from 0.05607 to 0.04900, saving model to model.h5\n",
            "32/32 [==============================] - 2s 64ms/step - loss: 0.0490 - accuracy: 0.9862 - val_loss: 0.0957 - val_accuracy: 0.9709\n",
            "Epoch 15/15\n",
            "31/32 [============================>.] - ETA: 0s - loss: 0.0394 - accuracy: 0.9898\n",
            "Epoch 15: loss improved from 0.04900 to 0.03944, saving model to model.h5\n",
            "32/32 [==============================] - 2s 64ms/step - loss: 0.0394 - accuracy: 0.9897 - val_loss: 0.0928 - val_accuracy: 0.9720\n"
          ]
        }
      ]
    },
    {
      "cell_type": "markdown",
      "source": [
        "Vẽ chart để kiểm tra vấn đề underfit và overfit. Qua chart bên dưới ta thấy training tốt"
      ],
      "metadata": {
        "id": "B21_0Ap6swa_"
      }
    },
    {
      "cell_type": "code",
      "source": [
        "plt.plot(history.history['accuracy'])\n",
        "plt.plot(history.history['val_accuracy'])\n",
        "plt.title('model accuracy')\n",
        "plt.ylabel('accuracy')\n",
        "plt.xlabel('epoch')\n",
        "plt.legend(['train', 'val'], loc='upper left')\n",
        "plt.show()"
      ],
      "metadata": {
        "colab": {
          "base_uri": "https://localhost:8080/",
          "height": 295
        },
        "id": "vei6l1zQQXL4",
        "outputId": "c9a38e1c-785f-4b0d-ef81-78dd9979d01c"
      },
      "execution_count": 321,
      "outputs": [
        {
          "output_type": "display_data",
          "data": {
            "text/plain": [
              "<Figure size 432x288 with 1 Axes>"
            ],
            "image/png": "[encoded data removed]"
          },
          "metadata": {
            "needs_background": "light"
          }
        }
      ]
    },
    {
      "cell_type": "code",
      "source": [
        "plt.plot(history.history['loss'])\n",
        "plt.plot(history.history['val_loss'])\n",
        "plt.title('model loss')\n",
        "plt.ylabel('loss')\n",
        "plt.xlabel('epoch')\n",
        "plt.legend(['train', 'val'], loc='upper left')\n",
        "plt.show()"
      ],
      "metadata": {
        "colab": {
          "base_uri": "https://localhost:8080/",
          "height": 295
        },
        "id": "VxPU7q5aVpvt",
        "outputId": "4a1c0ac9-8775-48f5-f61d-4ebb7fb4cb5e"
      },
      "execution_count": 322,
      "outputs": [
        {
          "output_type": "display_data",
          "data": {
            "text/plain": [
              "<Figure size 432x288 with 1 Axes>"
            ],
            "image/png": "[encoded data removed]"
          },
          "metadata": {
            "needs_background": "light"
          }
        }
      ]
    },
    {
      "cell_type": "markdown",
      "source": [
        "Show summary"
      ],
      "metadata": {
        "id": "k4fYW7_RNwIX"
      }
    },
    {
      "cell_type": "code",
      "source": [
        "model.summary()"
      ],
      "metadata": {
        "colab": {
          "base_uri": "https://localhost:8080/"
        },
        "id": "iaPYDcJwYaRe",
        "outputId": "cef8ec3b-708e-45c4-8452-d05542ed505b"
      },
      "execution_count": 323,
      "outputs": [
        {
          "output_type": "stream",
          "name": "stdout",
          "text": [
            "Model: \"model_26\"\n",
            "_________________________________________________________________\n",
            " Layer (type)                Output Shape              Param #   \n",
            "=================================================================\n",
            " input_28 (InputLayer)       [(None, 784)]             0         \n",
            "                                                                 \n",
            " dense_105 (Dense)           (None, 300)               235500    \n",
            "                                                                 \n",
            " dense_106 (Dense)           (None, 200)               60200     \n",
            "                                                                 \n",
            " dense_107 (Dense)           (None, 100)               20100     \n",
            "                                                                 \n",
            " dense_108 (Dense)           (None, 10)                1010      \n",
            "                                                                 \n",
            "=================================================================\n",
            "Total params: 316,810\n",
            "Trainable params: 316,810\n",
            "Non-trainable params: 0\n",
            "_________________________________________________________________\n"
          ]
        }
      ]
    },
    {
      "cell_type": "markdown",
      "source": [
        "\n",
        "Sử dụng pre-train weight để train tiếp với tập (training + validation) dataset"
      ],
      "metadata": {
        "id": "sWd3zpaTPiMi"
      }
    },
    {
      "cell_type": "code",
      "source": [
        "train_val_onehot_lbl = to_categorical(train_val_lbl,num_classes=10)"
      ],
      "metadata": {
        "id": "LkDDm19yb84n"
      },
      "execution_count": 324,
      "outputs": []
    },
    {
      "cell_type": "code",
      "source": [
        "# load the model\n",
        "new_model = tf.keras.models.load_model(filepath)\n",
        "\n",
        "# fit the model\n",
        "checkpoint = tf.keras.callbacks.ModelCheckpoint(filepath, monitor='loss', verbose=1, save_best_only=True, mode='min')\n",
        "callbacks_list = [checkpoint]\n",
        "\n",
        "new_history = new_model.fit(train_val_img,train_val_onehot_lbl,validation_data=None, epochs= 5, batch_size=1344,callbacks=callbacks_list)\n"
      ],
      "metadata": {
        "colab": {
          "base_uri": "https://localhost:8080/"
        },
        "id": "xU6JOriTQ9Fe",
        "outputId": "7f774b42-8e1f-4b02-bfab-687132901e33"
      },
      "execution_count": 332,
      "outputs": [
        {
          "output_type": "stream",
          "name": "stdout",
          "text": [
            "Epoch 1/5\n",
            "41/42 [============================>.] - ETA: 0s - loss: 0.0552 - accuracy: 0.9847\n",
            "Epoch 1: loss improved from inf to 0.05510, saving model to model.h5\n",
            "42/42 [==============================] - 3s 58ms/step - loss: 0.0551 - accuracy: 0.9847\n",
            "Epoch 2/5\n",
            "41/42 [============================>.] - ETA: 0s - loss: 0.0489 - accuracy: 0.9864\n",
            "Epoch 2: loss improved from 0.05510 to 0.04892, saving model to model.h5\n",
            "42/42 [==============================] - 2s 57ms/step - loss: 0.0489 - accuracy: 0.9863\n",
            "Epoch 3/5\n",
            "41/42 [============================>.] - ETA: 0s - loss: 0.0429 - accuracy: 0.9874\n",
            "Epoch 3: loss improved from 0.04892 to 0.04314, saving model to model.h5\n",
            "42/42 [==============================] - 2s 56ms/step - loss: 0.0431 - accuracy: 0.9874\n",
            "Epoch 4/5\n",
            "41/42 [============================>.] - ETA: 0s - loss: 0.0385 - accuracy: 0.9892\n",
            "Epoch 4: loss improved from 0.04314 to 0.03831, saving model to model.h5\n",
            "42/42 [==============================] - 2s 56ms/step - loss: 0.0383 - accuracy: 0.9892\n",
            "Epoch 5/5\n",
            "41/42 [============================>.] - ETA: 0s - loss: 0.0347 - accuracy: 0.9898\n",
            "Epoch 5: loss improved from 0.03831 to 0.03476, saving model to model.h5\n",
            "42/42 [==============================] - 2s 57ms/step - loss: 0.0348 - accuracy: 0.9899\n"
          ]
        }
      ]
    },
    {
      "cell_type": "markdown",
      "source": [
        "Predict all test samples"
      ],
      "metadata": {
        "id": "GfxDLw8ANj1c"
      }
    },
    {
      "cell_type": "code",
      "source": [
        "pred = new_model.predict(test_img)\n",
        "pred"
      ],
      "metadata": {
        "colab": {
          "base_uri": "https://localhost:8080/"
        },
        "id": "zxKgjR9QhA_1",
        "outputId": "765dd199-315f-4cf6-f0be-4f90e7c2e8ef"
      },
      "execution_count": 333,
      "outputs": [
        {
          "output_type": "execute_result",
          "data": {
            "text/plain": [
              "array([[9.99488235e-01, 1.33582043e-05, 9.19493104e-05, ...,\n",
              "        2.68151289e-05, 2.71061563e-05, 4.02619917e-05],\n",
              "       [4.29545762e-05, 4.16058931e-04, 2.35016269e-04, ...,\n",
              "        9.96677279e-01, 7.26514991e-05, 1.96086755e-03],\n",
              "       [4.87916695e-04, 4.39329218e-04, 3.95072129e-05, ...,\n",
              "        1.19041873e-03, 5.39948873e-04, 9.96343911e-01],\n",
              "       ...,\n",
              "       [1.02626735e-04, 5.22783259e-04, 1.19812158e-03, ...,\n",
              "        1.02051883e-04, 9.92957115e-01, 4.20203141e-04],\n",
              "       [9.58099117e-05, 4.43786994e-05, 1.09000139e-05, ...,\n",
              "        1.75598514e-04, 9.73277056e-05, 9.99059975e-01],\n",
              "       [9.99192417e-01, 1.65821912e-05, 2.47060612e-04, ...,\n",
              "        7.58168899e-05, 4.84124757e-05, 6.81402962e-05]], dtype=float32)"
            ]
          },
          "metadata": {},
          "execution_count": 333
        }
      ]
    },
    {
      "cell_type": "markdown",
      "source": [
        "Compute accuracy on test samples"
      ],
      "metadata": {
        "id": "sdJZWe2uOEe3"
      }
    },
    {
      "cell_type": "code",
      "source": [
        "np.sum(np.argmax(pred,axis=1) == np.argmax(test_onehot_lbl,axis=1))/len(test_onehot_lbl)"
      ],
      "metadata": {
        "colab": {
          "base_uri": "https://localhost:8080/"
        },
        "id": "zoiWdCdgf9Z5",
        "outputId": "d7d7d132-635b-4002-d0d7-4c368160d508"
      },
      "execution_count": 334,
      "outputs": [
        {
          "output_type": "execute_result",
          "data": {
            "text/plain": [
              "0.9760714285714286"
            ]
          },
          "metadata": {},
          "execution_count": 334
        }
      ]
    },
    {
      "cell_type": "markdown",
      "source": [
        "Kết thúc!\n",
        "\n",
        "---\n",
        "\n",
        "\n",
        "\n",
        "\n"
      ],
      "metadata": {
        "id": "68KYiGI0TZzt"
      }
    }
  ]
}